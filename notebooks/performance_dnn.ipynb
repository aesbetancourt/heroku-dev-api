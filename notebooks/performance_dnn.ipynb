{
  "nbformat": 4,
  "nbformat_minor": 0,
  "metadata": {
    "colab": {
      "name": "performance_dnn.ipynb",
      "provenance": []
    },
    "kernelspec": {
      "name": "python3",
      "display_name": "Python 3"
    },
    "accelerator": "GPU"
  },
  "cells": [
    {
      "cell_type": "code",
      "metadata": {
        "id": "9N1fUMTMxpCo",
        "colab_type": "code",
        "colab": {
          "base_uri": "https://localhost:8080/",
          "height": 80
        },
        "outputId": "98299fd9-79f6-43d4-ad23-9a2141c2d5a5"
      },
      "source": [
        "# Import the dependencies\n",
        "from keras.models import Sequential # Initialize ANN\n",
        "from keras.layers import Dense # Tell us the number of layers, neurons\n",
        "from sklearn.model_selection import train_test_split # To split the data into training and testing sets\n",
        "from sklearn.preprocessing import MinMaxScaler # To scale the data\n",
        "import matplotlib.pyplot as plt\n",
        "import pandas as pd"
      ],
      "execution_count": null,
      "outputs": [
        {
          "output_type": "stream",
          "text": [
            "Using TensorFlow backend.\n"
          ],
          "name": "stderr"
        },
        {
          "output_type": "display_data",
          "data": {
            "text/html": [
              "<p style=\"color: red;\">\n",
              "The default version of TensorFlow in Colab will soon switch to TensorFlow 2.x.<br>\n",
              "We recommend you <a href=\"https://www.tensorflow.org/guide/migrate\" target=\"_blank\">upgrade</a> now \n",
              "or ensure your notebook will continue to use TensorFlow 1.x via the <code>%tensorflow_version 1.x</code> magic:\n",
              "<a href=\"https://colab.research.google.com/notebooks/tensorflow_version.ipynb\" target=\"_blank\">more info</a>.</p>\n"
            ],
            "text/plain": [
              "<IPython.core.display.HTML object>"
            ]
          },
          "metadata": {
            "tags": []
          }
        }
      ]
    },
    {
      "cell_type": "code",
      "metadata": {
        "id": "SYAcin6iy7B1",
        "colab_type": "code",
        "colab": {
          "resources": {
            "http://localhost:8080/nbextensions/google.colab/files.js": {
              "data": "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",
              "ok": true,
              "headers": [
                [
                  "content-type",
                  "application/javascript"
                ]
              ],
              "status": 200,
              "status_text": ""
            }
          },
          "base_uri": "https://localhost:8080/",
          "height": 323
        },
        "outputId": "22545937-5c83-4dc4-daa4-12e6310c9ccc"
      },
      "source": [
        "from google.colab import files\n",
        "uploaded = files.upload() # Upload the data\n",
        "df = pd.read_csv('test.csv') # Load the data\n",
        "df.head(7) # Print the first 7 rows of data"
      ],
      "execution_count": null,
      "outputs": [
        {
          "output_type": "display_data",
          "data": {
            "text/html": [
              "\n",
              "     <input type=\"file\" id=\"files-1bbd589b-4511-473c-ab85-d6b1ab8f1269\" name=\"files[]\" multiple disabled />\n",
              "     <output id=\"result-1bbd589b-4511-473c-ab85-d6b1ab8f1269\">\n",
              "      Upload widget is only available when the cell has been executed in the\n",
              "      current browser session. Please rerun this cell to enable.\n",
              "      </output>\n",
              "      <script src=\"/nbextensions/google.colab/files.js\"></script> "
            ],
            "text/plain": [
              "<IPython.core.display.HTML object>"
            ]
          },
          "metadata": {
            "tags": []
          }
        },
        {
          "output_type": "stream",
          "text": [
            "Saving test.csv to test.csv\n"
          ],
          "name": "stdout"
        },
        {
          "output_type": "execute_result",
          "data": {
            "text/html": [
              "<div>\n",
              "<style scoped>\n",
              "    .dataframe tbody tr th:only-of-type {\n",
              "        vertical-align: middle;\n",
              "    }\n",
              "\n",
              "    .dataframe tbody tr th {\n",
              "        vertical-align: top;\n",
              "    }\n",
              "\n",
              "    .dataframe thead th {\n",
              "        text-align: right;\n",
              "    }\n",
              "</style>\n",
              "<table border=\"1\" class=\"dataframe\">\n",
              "  <thead>\n",
              "    <tr style=\"text-align: right;\">\n",
              "      <th></th>\n",
              "      <th>dev_quality</th>\n",
              "      <th>dev_on_time</th>\n",
              "      <th>team_chemistry</th>\n",
              "      <th>dev_exp</th>\n",
              "      <th>pro_exp</th>\n",
              "      <th>accomplishment</th>\n",
              "    </tr>\n",
              "  </thead>\n",
              "  <tbody>\n",
              "    <tr>\n",
              "      <th>0</th>\n",
              "      <td>72</td>\n",
              "      <td>63</td>\n",
              "      <td>59</td>\n",
              "      <td>58</td>\n",
              "      <td>79</td>\n",
              "      <td>1</td>\n",
              "    </tr>\n",
              "    <tr>\n",
              "      <th>1</th>\n",
              "      <td>83</td>\n",
              "      <td>25</td>\n",
              "      <td>75</td>\n",
              "      <td>61</td>\n",
              "      <td>59</td>\n",
              "      <td>1</td>\n",
              "    </tr>\n",
              "    <tr>\n",
              "      <th>2</th>\n",
              "      <td>66</td>\n",
              "      <td>55</td>\n",
              "      <td>81</td>\n",
              "      <td>79</td>\n",
              "      <td>55</td>\n",
              "      <td>1</td>\n",
              "    </tr>\n",
              "    <tr>\n",
              "      <th>3</th>\n",
              "      <td>23</td>\n",
              "      <td>68</td>\n",
              "      <td>53</td>\n",
              "      <td>49</td>\n",
              "      <td>34</td>\n",
              "      <td>0</td>\n",
              "    </tr>\n",
              "    <tr>\n",
              "      <th>4</th>\n",
              "      <td>18</td>\n",
              "      <td>72</td>\n",
              "      <td>66</td>\n",
              "      <td>90</td>\n",
              "      <td>35</td>\n",
              "      <td>1</td>\n",
              "    </tr>\n",
              "    <tr>\n",
              "      <th>5</th>\n",
              "      <td>25</td>\n",
              "      <td>60</td>\n",
              "      <td>26</td>\n",
              "      <td>82</td>\n",
              "      <td>86</td>\n",
              "      <td>1</td>\n",
              "    </tr>\n",
              "    <tr>\n",
              "      <th>6</th>\n",
              "      <td>56</td>\n",
              "      <td>16</td>\n",
              "      <td>67</td>\n",
              "      <td>28</td>\n",
              "      <td>33</td>\n",
              "      <td>0</td>\n",
              "    </tr>\n",
              "  </tbody>\n",
              "</table>\n",
              "</div>"
            ],
            "text/plain": [
              "   dev_quality  dev_on_time  team_chemistry  dev_exp  pro_exp  accomplishment\n",
              "0           72           63              59       58       79               1\n",
              "1           83           25              75       61       59               1\n",
              "2           66           55              81       79       55               1\n",
              "3           23           68              53       49       34               0\n",
              "4           18           72              66       90       35               1\n",
              "5           25           60              26       82       86               1\n",
              "6           56           16              67       28       33               0"
            ]
          },
          "metadata": {
            "tags": []
          },
          "execution_count": 2
        }
      ]
    },
    {
      "cell_type": "code",
      "metadata": {
        "id": "fRvoLn2TzSdR",
        "colab_type": "code",
        "colab": {
          "base_uri": "https://localhost:8080/",
          "height": 136
        },
        "outputId": "f08adb77-3e79-40d7-a694-858ec04744cc"
      },
      "source": [
        "# Convert the data into an array\n",
        "dataset = df.values\n",
        "dataset"
      ],
      "execution_count": null,
      "outputs": [
        {
          "output_type": "execute_result",
          "data": {
            "text/plain": [
              "array([[72, 63, 59, 58, 79,  1],\n",
              "       [83, 25, 75, 61, 59,  1],\n",
              "       [66, 55, 81, 79, 55,  1],\n",
              "       ...,\n",
              "       [13, 25, 20, 33, 21,  1],\n",
              "       [35, 39, 27, 35, 50,  0],\n",
              "       [36, 85, 36, 34, 32,  1]])"
            ]
          },
          "metadata": {
            "tags": []
          },
          "execution_count": 3
        }
      ]
    },
    {
      "cell_type": "code",
      "metadata": {
        "id": "MKT9_V8lzopM",
        "colab_type": "code",
        "colab": {}
      },
      "source": [
        "# Split the dataset into independent and dependent datasets\n",
        "X = dataset[:, 0:5] # Get all the rows from the columns [0, 5)\n",
        "\n",
        "Y = dataset[:, 5] # Get all the rows from columns at position 5 (the 6th column)\n"
      ],
      "execution_count": null,
      "outputs": []
    },
    {
      "cell_type": "code",
      "metadata": {
        "id": "84keLbDj0sYL",
        "colab_type": "code",
        "colab": {
          "base_uri": "https://localhost:8080/",
          "height": 136
        },
        "outputId": "8456fbcd-eba8-452d-e96e-8155c302587d"
      },
      "source": [
        "# Use the min-max scaler method from preprocesing which scales the dataset so that all\n",
        "# the features lie between 0 and 1 inclusive\n",
        "min_max_scaler = MinMaxScaler()\n",
        "X_scale = min_max_scaler.fit_transform(X)\n",
        "X_scale"
      ],
      "execution_count": null,
      "outputs": [
        {
          "output_type": "execute_result",
          "data": {
            "text/plain": [
              "array([[0.775 , 0.6625, 0.6125, 0.6   , 0.8625],\n",
              "       [0.9125, 0.1875, 0.8125, 0.6375, 0.6125],\n",
              "       [0.7   , 0.5625, 0.8875, 0.8625, 0.5625],\n",
              "       ...,\n",
              "       [0.0375, 0.1875, 0.125 , 0.2875, 0.1375],\n",
              "       [0.3125, 0.3625, 0.2125, 0.3125, 0.5   ],\n",
              "       [0.325 , 0.9375, 0.325 , 0.3   , 0.275 ]])"
            ]
          },
          "metadata": {
            "tags": []
          },
          "execution_count": 13
        }
      ]
    },
    {
      "cell_type": "code",
      "metadata": {
        "id": "0lBHAzja0xS-",
        "colab_type": "code",
        "colab": {
          "base_uri": "https://localhost:8080/",
          "height": 34
        },
        "outputId": "bdcc40ee-53d1-434b-ee97-174896ee3c00"
      },
      "source": [
        "# Split the data into 80% training and 20% (testing(10%) and validating(10%) )\n",
        "X_train, X_val_and_test, Y_train, Y_val_and_test = train_test_split(X_scale, Y, test_size=0.2)\n",
        "X_val, X_test, Y_val, Y_test = train_test_split(X_val_and_test, Y_val_and_test, test_size=0.5)\n",
        "# The training set has 1600 data points while he validation and test set have 200 data points each.\n",
        "# The X variables have 42 input features\n",
        "print(X_train.shape, X_val.shape, X_test.shape, Y_train.shape, Y_val.shape, Y_test.shape)"
      ],
      "execution_count": null,
      "outputs": [
        {
          "output_type": "stream",
          "text": [
            "(799, 5) (100, 5) (100, 5) (799,) (100,) (100,)\n"
          ],
          "name": "stdout"
        }
      ]
    },
    {
      "cell_type": "code",
      "metadata": {
        "id": "75R2zL901R5T",
        "colab_type": "code",
        "colab": {
          "base_uri": "https://localhost:8080/",
          "height": 139
        },
        "outputId": "a871b89f-3521-461b-d029-6beeaab5ce38"
      },
      "source": [
        "# Build the model and architecture of the DNN\n",
        "model = Sequential() # Initalizes de ANN\n",
        "model.add(Dense(units=32, activation='relu', input_dim=5))\n",
        "model.add(Dense(units=32, activation='relu'))\n",
        "model.add(Dense(units=32, activation='relu'))\n",
        "model.add(Dense(units=1, activation='sigmoid'))"
      ],
      "execution_count": null,
      "outputs": [
        {
          "output_type": "stream",
          "text": [
            "WARNING:tensorflow:From /usr/local/lib/python3.6/dist-packages/keras/backend/tensorflow_backend.py:66: The name tf.get_default_graph is deprecated. Please use tf.compat.v1.get_default_graph instead.\n",
            "\n",
            "WARNING:tensorflow:From /usr/local/lib/python3.6/dist-packages/keras/backend/tensorflow_backend.py:541: The name tf.placeholder is deprecated. Please use tf.compat.v1.placeholder instead.\n",
            "\n",
            "WARNING:tensorflow:From /usr/local/lib/python3.6/dist-packages/keras/backend/tensorflow_backend.py:4432: The name tf.random_uniform is deprecated. Please use tf.random.uniform instead.\n",
            "\n"
          ],
          "name": "stdout"
        }
      ]
    },
    {
      "cell_type": "code",
      "metadata": {
        "id": "HOcMCGAH1fuo",
        "colab_type": "code",
        "colab": {
          "base_uri": "https://localhost:8080/",
          "height": 156
        },
        "outputId": "9602f432-572c-40b6-8775-3843be8cbaa8"
      },
      "source": [
        "# Loss function measures how well the model did on traingn and then tries to improve using the optimizer\n",
        "model.compile(optimizer='sgd',\n",
        "              loss='binary_crossentropy',\n",
        "              metrics=['accuracy'])"
      ],
      "execution_count": null,
      "outputs": [
        {
          "output_type": "stream",
          "text": [
            "WARNING:tensorflow:From /usr/local/lib/python3.6/dist-packages/keras/optimizers.py:793: The name tf.train.Optimizer is deprecated. Please use tf.compat.v1.train.Optimizer instead.\n",
            "\n",
            "WARNING:tensorflow:From /usr/local/lib/python3.6/dist-packages/keras/backend/tensorflow_backend.py:3657: The name tf.log is deprecated. Please use tf.math.log instead.\n",
            "\n",
            "WARNING:tensorflow:From /usr/local/lib/python3.6/dist-packages/tensorflow_core/python/ops/nn_impl.py:183: where (from tensorflow.python.ops.array_ops) is deprecated and will be removed in a future version.\n",
            "Instructions for updating:\n",
            "Use tf.where in 2.0, which has the same broadcast rule as np.where\n"
          ],
          "name": "stdout"
        }
      ]
    },
    {
      "cell_type": "code",
      "metadata": {
        "id": "5pGkLK0t1jAy",
        "colab_type": "code",
        "colab": {
          "base_uri": "https://localhost:8080/",
          "height": 1000
        },
        "outputId": "c0c63d28-3b36-4171-d74e-86e1acdd8707"
      },
      "source": [
        "# Train the model\n",
        "hist = model.fit(\n",
        "    X_train, Y_train,\n",
        "    batch_size=32, epochs=100,\n",
        "    validation_data=(X_val, Y_val)\n",
        ")"
      ],
      "execution_count": null,
      "outputs": [
        {
          "output_type": "stream",
          "text": [
            "WARNING:tensorflow:From /usr/local/lib/python3.6/dist-packages/keras/backend/tensorflow_backend.py:1033: The name tf.assign_add is deprecated. Please use tf.compat.v1.assign_add instead.\n",
            "\n",
            "WARNING:tensorflow:From /usr/local/lib/python3.6/dist-packages/keras/backend/tensorflow_backend.py:1020: The name tf.assign is deprecated. Please use tf.compat.v1.assign instead.\n",
            "\n",
            "WARNING:tensorflow:From /usr/local/lib/python3.6/dist-packages/keras/backend/tensorflow_backend.py:3005: The name tf.Session is deprecated. Please use tf.compat.v1.Session instead.\n",
            "\n",
            "Train on 799 samples, validate on 100 samples\n",
            "Epoch 1/100\n",
            "WARNING:tensorflow:From /usr/local/lib/python3.6/dist-packages/keras/backend/tensorflow_backend.py:190: The name tf.get_default_session is deprecated. Please use tf.compat.v1.get_default_session instead.\n",
            "\n",
            "WARNING:tensorflow:From /usr/local/lib/python3.6/dist-packages/keras/backend/tensorflow_backend.py:197: The name tf.ConfigProto is deprecated. Please use tf.compat.v1.ConfigProto instead.\n",
            "\n",
            "WARNING:tensorflow:From /usr/local/lib/python3.6/dist-packages/keras/backend/tensorflow_backend.py:207: The name tf.global_variables is deprecated. Please use tf.compat.v1.global_variables instead.\n",
            "\n",
            "WARNING:tensorflow:From /usr/local/lib/python3.6/dist-packages/keras/backend/tensorflow_backend.py:216: The name tf.is_variable_initialized is deprecated. Please use tf.compat.v1.is_variable_initialized instead.\n",
            "\n",
            "WARNING:tensorflow:From /usr/local/lib/python3.6/dist-packages/keras/backend/tensorflow_backend.py:223: The name tf.variables_initializer is deprecated. Please use tf.compat.v1.variables_initializer instead.\n",
            "\n",
            "799/799 [==============================] - 10s 12ms/step - loss: 0.6805 - acc: 0.6220 - val_loss: 0.6810 - val_acc: 0.5900\n",
            "Epoch 2/100\n",
            "799/799 [==============================] - 0s 148us/step - loss: 0.6716 - acc: 0.6220 - val_loss: 0.6745 - val_acc: 0.5900\n",
            "Epoch 3/100\n",
            "799/799 [==============================] - 0s 134us/step - loss: 0.6635 - acc: 0.6220 - val_loss: 0.6684 - val_acc: 0.5900\n",
            "Epoch 4/100\n",
            "799/799 [==============================] - 0s 128us/step - loss: 0.6563 - acc: 0.6220 - val_loss: 0.6624 - val_acc: 0.5900\n",
            "Epoch 5/100\n",
            "799/799 [==============================] - 0s 130us/step - loss: 0.6495 - acc: 0.6220 - val_loss: 0.6570 - val_acc: 0.5900\n",
            "Epoch 6/100\n",
            "799/799 [==============================] - 0s 139us/step - loss: 0.6433 - acc: 0.6220 - val_loss: 0.6519 - val_acc: 0.5900\n",
            "Epoch 7/100\n",
            "799/799 [==============================] - 0s 128us/step - loss: 0.6377 - acc: 0.6220 - val_loss: 0.6472 - val_acc: 0.5900\n",
            "Epoch 8/100\n",
            "799/799 [==============================] - 0s 134us/step - loss: 0.6327 - acc: 0.6220 - val_loss: 0.6421 - val_acc: 0.5900\n",
            "Epoch 9/100\n",
            "799/799 [==============================] - 0s 129us/step - loss: 0.6276 - acc: 0.6220 - val_loss: 0.6372 - val_acc: 0.5900\n",
            "Epoch 10/100\n",
            "799/799 [==============================] - 0s 142us/step - loss: 0.6225 - acc: 0.6220 - val_loss: 0.6323 - val_acc: 0.5900\n",
            "Epoch 11/100\n",
            "799/799 [==============================] - 0s 146us/step - loss: 0.6172 - acc: 0.6220 - val_loss: 0.6267 - val_acc: 0.5900\n",
            "Epoch 12/100\n",
            "799/799 [==============================] - 0s 146us/step - loss: 0.6114 - acc: 0.6220 - val_loss: 0.6213 - val_acc: 0.5900\n",
            "Epoch 13/100\n",
            "799/799 [==============================] - 0s 132us/step - loss: 0.6054 - acc: 0.6220 - val_loss: 0.6153 - val_acc: 0.5900\n",
            "Epoch 14/100\n",
            "799/799 [==============================] - 0s 130us/step - loss: 0.5988 - acc: 0.6220 - val_loss: 0.6088 - val_acc: 0.5900\n",
            "Epoch 15/100\n",
            "799/799 [==============================] - 0s 129us/step - loss: 0.5918 - acc: 0.6233 - val_loss: 0.6019 - val_acc: 0.6000\n",
            "Epoch 16/100\n",
            "799/799 [==============================] - 0s 131us/step - loss: 0.5839 - acc: 0.6308 - val_loss: 0.5938 - val_acc: 0.6400\n",
            "Epoch 17/100\n",
            "799/799 [==============================] - 0s 133us/step - loss: 0.5753 - acc: 0.6533 - val_loss: 0.5859 - val_acc: 0.6400\n",
            "Epoch 18/100\n",
            "799/799 [==============================] - 0s 127us/step - loss: 0.5661 - acc: 0.6746 - val_loss: 0.5773 - val_acc: 0.6700\n",
            "Epoch 19/100\n",
            "799/799 [==============================] - 0s 127us/step - loss: 0.5563 - acc: 0.6871 - val_loss: 0.5674 - val_acc: 0.6800\n",
            "Epoch 20/100\n",
            "799/799 [==============================] - 0s 130us/step - loss: 0.5453 - acc: 0.7184 - val_loss: 0.5563 - val_acc: 0.7000\n",
            "Epoch 21/100\n",
            "799/799 [==============================] - 0s 145us/step - loss: 0.5339 - acc: 0.7384 - val_loss: 0.5443 - val_acc: 0.7100\n",
            "Epoch 22/100\n",
            "799/799 [==============================] - 0s 129us/step - loss: 0.5220 - acc: 0.7710 - val_loss: 0.5324 - val_acc: 0.7200\n",
            "Epoch 23/100\n",
            "799/799 [==============================] - 0s 128us/step - loss: 0.5091 - acc: 0.7885 - val_loss: 0.5210 - val_acc: 0.7400\n",
            "Epoch 24/100\n",
            "799/799 [==============================] - 0s 135us/step - loss: 0.4956 - acc: 0.7860 - val_loss: 0.5064 - val_acc: 0.7800\n",
            "Epoch 25/100\n",
            "799/799 [==============================] - 0s 132us/step - loss: 0.4826 - acc: 0.8235 - val_loss: 0.4952 - val_acc: 0.7800\n",
            "Epoch 26/100\n",
            "799/799 [==============================] - 0s 126us/step - loss: 0.4689 - acc: 0.8348 - val_loss: 0.4822 - val_acc: 0.7900\n",
            "Epoch 27/100\n",
            "799/799 [==============================] - 0s 130us/step - loss: 0.4550 - acc: 0.8473 - val_loss: 0.4688 - val_acc: 0.8200\n",
            "Epoch 28/100\n",
            "799/799 [==============================] - 0s 128us/step - loss: 0.4408 - acc: 0.8686 - val_loss: 0.4574 - val_acc: 0.8200\n",
            "Epoch 29/100\n",
            "799/799 [==============================] - 0s 136us/step - loss: 0.4274 - acc: 0.8761 - val_loss: 0.4453 - val_acc: 0.8200\n",
            "Epoch 30/100\n",
            "799/799 [==============================] - 0s 127us/step - loss: 0.4130 - acc: 0.8861 - val_loss: 0.4327 - val_acc: 0.8100\n",
            "Epoch 31/100\n",
            "799/799 [==============================] - 0s 138us/step - loss: 0.3995 - acc: 0.8899 - val_loss: 0.4212 - val_acc: 0.8100\n",
            "Epoch 32/100\n",
            "799/799 [==============================] - 0s 130us/step - loss: 0.3864 - acc: 0.8961 - val_loss: 0.4142 - val_acc: 0.8100\n",
            "Epoch 33/100\n",
            "799/799 [==============================] - 0s 121us/step - loss: 0.3738 - acc: 0.8924 - val_loss: 0.4023 - val_acc: 0.8100\n",
            "Epoch 34/100\n",
            "799/799 [==============================] - 0s 142us/step - loss: 0.3619 - acc: 0.8949 - val_loss: 0.3907 - val_acc: 0.8300\n",
            "Epoch 35/100\n",
            "799/799 [==============================] - 0s 159us/step - loss: 0.3506 - acc: 0.8961 - val_loss: 0.3839 - val_acc: 0.8200\n",
            "Epoch 36/100\n",
            "799/799 [==============================] - 0s 146us/step - loss: 0.3404 - acc: 0.8974 - val_loss: 0.3756 - val_acc: 0.8300\n",
            "Epoch 37/100\n",
            "799/799 [==============================] - 0s 145us/step - loss: 0.3308 - acc: 0.8999 - val_loss: 0.3677 - val_acc: 0.8400\n",
            "Epoch 38/100\n",
            "799/799 [==============================] - 0s 131us/step - loss: 0.3215 - acc: 0.9061 - val_loss: 0.3631 - val_acc: 0.8300\n",
            "Epoch 39/100\n",
            "799/799 [==============================] - 0s 127us/step - loss: 0.3138 - acc: 0.9074 - val_loss: 0.3525 - val_acc: 0.8700\n",
            "Epoch 40/100\n",
            "799/799 [==============================] - 0s 133us/step - loss: 0.3060 - acc: 0.9086 - val_loss: 0.3503 - val_acc: 0.8700\n",
            "Epoch 41/100\n",
            "799/799 [==============================] - 0s 130us/step - loss: 0.2983 - acc: 0.9061 - val_loss: 0.3373 - val_acc: 0.8700\n",
            "Epoch 42/100\n",
            "799/799 [==============================] - 0s 126us/step - loss: 0.2931 - acc: 0.9099 - val_loss: 0.3336 - val_acc: 0.8700\n",
            "Epoch 43/100\n",
            "799/799 [==============================] - 0s 141us/step - loss: 0.2871 - acc: 0.9111 - val_loss: 0.3378 - val_acc: 0.8700\n",
            "Epoch 44/100\n",
            "799/799 [==============================] - 0s 136us/step - loss: 0.2824 - acc: 0.9074 - val_loss: 0.3304 - val_acc: 0.8700\n",
            "Epoch 45/100\n",
            "799/799 [==============================] - 0s 122us/step - loss: 0.2775 - acc: 0.9136 - val_loss: 0.3343 - val_acc: 0.8700\n",
            "Epoch 46/100\n",
            "799/799 [==============================] - 0s 129us/step - loss: 0.2740 - acc: 0.9074 - val_loss: 0.3225 - val_acc: 0.8900\n",
            "Epoch 47/100\n",
            "799/799 [==============================] - 0s 137us/step - loss: 0.2699 - acc: 0.9099 - val_loss: 0.3207 - val_acc: 0.8900\n",
            "Epoch 48/100\n",
            "799/799 [==============================] - 0s 131us/step - loss: 0.2667 - acc: 0.9111 - val_loss: 0.3171 - val_acc: 0.9000\n",
            "Epoch 49/100\n",
            "799/799 [==============================] - 0s 124us/step - loss: 0.2643 - acc: 0.9136 - val_loss: 0.3165 - val_acc: 0.8900\n",
            "Epoch 50/100\n",
            "799/799 [==============================] - 0s 134us/step - loss: 0.2612 - acc: 0.9161 - val_loss: 0.3213 - val_acc: 0.8800\n",
            "Epoch 51/100\n",
            "799/799 [==============================] - 0s 124us/step - loss: 0.2593 - acc: 0.9111 - val_loss: 0.3182 - val_acc: 0.8800\n",
            "Epoch 52/100\n",
            "799/799 [==============================] - 0s 128us/step - loss: 0.2561 - acc: 0.9149 - val_loss: 0.3094 - val_acc: 0.9000\n",
            "Epoch 53/100\n",
            "799/799 [==============================] - 0s 120us/step - loss: 0.2551 - acc: 0.9212 - val_loss: 0.3205 - val_acc: 0.8800\n",
            "Epoch 54/100\n",
            "799/799 [==============================] - 0s 132us/step - loss: 0.2527 - acc: 0.9124 - val_loss: 0.3107 - val_acc: 0.9000\n",
            "Epoch 55/100\n",
            "799/799 [==============================] - 0s 125us/step - loss: 0.2509 - acc: 0.9111 - val_loss: 0.3063 - val_acc: 0.9000\n",
            "Epoch 56/100\n",
            "799/799 [==============================] - 0s 126us/step - loss: 0.2503 - acc: 0.9199 - val_loss: 0.3172 - val_acc: 0.8800\n",
            "Epoch 57/100\n",
            "799/799 [==============================] - 0s 132us/step - loss: 0.2485 - acc: 0.9161 - val_loss: 0.3226 - val_acc: 0.8800\n",
            "Epoch 58/100\n",
            "799/799 [==============================] - 0s 151us/step - loss: 0.2479 - acc: 0.9111 - val_loss: 0.3094 - val_acc: 0.9000\n",
            "Epoch 59/100\n",
            "799/799 [==============================] - 0s 131us/step - loss: 0.2470 - acc: 0.9124 - val_loss: 0.3114 - val_acc: 0.8900\n",
            "Epoch 60/100\n",
            "799/799 [==============================] - 0s 140us/step - loss: 0.2456 - acc: 0.9136 - val_loss: 0.3109 - val_acc: 0.8900\n",
            "Epoch 61/100\n",
            "799/799 [==============================] - 0s 140us/step - loss: 0.2449 - acc: 0.9111 - val_loss: 0.3132 - val_acc: 0.8900\n",
            "Epoch 62/100\n",
            "799/799 [==============================] - 0s 130us/step - loss: 0.2443 - acc: 0.9161 - val_loss: 0.3111 - val_acc: 0.8900\n",
            "Epoch 63/100\n",
            "799/799 [==============================] - 0s 131us/step - loss: 0.2431 - acc: 0.9136 - val_loss: 0.3121 - val_acc: 0.8900\n",
            "Epoch 64/100\n",
            "799/799 [==============================] - 0s 127us/step - loss: 0.2438 - acc: 0.9174 - val_loss: 0.3103 - val_acc: 0.8900\n",
            "Epoch 65/100\n",
            "799/799 [==============================] - 0s 137us/step - loss: 0.2423 - acc: 0.9161 - val_loss: 0.3123 - val_acc: 0.8900\n",
            "Epoch 66/100\n",
            "799/799 [==============================] - 0s 138us/step - loss: 0.2411 - acc: 0.9174 - val_loss: 0.3044 - val_acc: 0.9200\n",
            "Epoch 67/100\n",
            "799/799 [==============================] - 0s 142us/step - loss: 0.2416 - acc: 0.9161 - val_loss: 0.3096 - val_acc: 0.8900\n",
            "Epoch 68/100\n",
            "799/799 [==============================] - 0s 131us/step - loss: 0.2390 - acc: 0.9111 - val_loss: 0.2982 - val_acc: 0.9300\n",
            "Epoch 69/100\n",
            "799/799 [==============================] - 0s 156us/step - loss: 0.2409 - acc: 0.9174 - val_loss: 0.3142 - val_acc: 0.8900\n",
            "Epoch 70/100\n",
            "799/799 [==============================] - 0s 137us/step - loss: 0.2394 - acc: 0.9124 - val_loss: 0.3054 - val_acc: 0.9000\n",
            "Epoch 71/100\n",
            "799/799 [==============================] - 0s 136us/step - loss: 0.2392 - acc: 0.9149 - val_loss: 0.3026 - val_acc: 0.9200\n",
            "Epoch 72/100\n",
            "799/799 [==============================] - 0s 127us/step - loss: 0.2392 - acc: 0.9186 - val_loss: 0.3028 - val_acc: 0.9200\n",
            "Epoch 73/100\n",
            "799/799 [==============================] - 0s 129us/step - loss: 0.2391 - acc: 0.9186 - val_loss: 0.3182 - val_acc: 0.8800\n",
            "Epoch 74/100\n",
            "799/799 [==============================] - 0s 125us/step - loss: 0.2387 - acc: 0.9149 - val_loss: 0.3123 - val_acc: 0.8900\n",
            "Epoch 75/100\n",
            "799/799 [==============================] - 0s 137us/step - loss: 0.2389 - acc: 0.9124 - val_loss: 0.3139 - val_acc: 0.8900\n",
            "Epoch 76/100\n",
            "799/799 [==============================] - 0s 129us/step - loss: 0.2380 - acc: 0.9136 - val_loss: 0.3015 - val_acc: 0.9200\n",
            "Epoch 77/100\n",
            "799/799 [==============================] - 0s 127us/step - loss: 0.2375 - acc: 0.9161 - val_loss: 0.2989 - val_acc: 0.9200\n",
            "Epoch 78/100\n",
            "799/799 [==============================] - 0s 144us/step - loss: 0.2380 - acc: 0.9161 - val_loss: 0.2968 - val_acc: 0.9300\n",
            "Epoch 79/100\n",
            "799/799 [==============================] - 0s 138us/step - loss: 0.2383 - acc: 0.9199 - val_loss: 0.3086 - val_acc: 0.8900\n",
            "Epoch 80/100\n",
            "799/799 [==============================] - 0s 125us/step - loss: 0.2373 - acc: 0.9199 - val_loss: 0.3103 - val_acc: 0.8900\n",
            "Epoch 81/100\n",
            "799/799 [==============================] - 0s 129us/step - loss: 0.2368 - acc: 0.9199 - val_loss: 0.3136 - val_acc: 0.8900\n",
            "Epoch 82/100\n",
            "799/799 [==============================] - 0s 127us/step - loss: 0.2366 - acc: 0.9124 - val_loss: 0.3104 - val_acc: 0.8900\n",
            "Epoch 83/100\n",
            "799/799 [==============================] - 0s 130us/step - loss: 0.2361 - acc: 0.9111 - val_loss: 0.3037 - val_acc: 0.9200\n",
            "Epoch 84/100\n",
            "799/799 [==============================] - 0s 137us/step - loss: 0.2363 - acc: 0.9161 - val_loss: 0.3087 - val_acc: 0.8900\n",
            "Epoch 85/100\n",
            "799/799 [==============================] - 0s 126us/step - loss: 0.2365 - acc: 0.9186 - val_loss: 0.3200 - val_acc: 0.8800\n",
            "Epoch 86/100\n",
            "799/799 [==============================] - 0s 129us/step - loss: 0.2370 - acc: 0.9124 - val_loss: 0.3055 - val_acc: 0.9100\n",
            "Epoch 87/100\n",
            "799/799 [==============================] - 0s 127us/step - loss: 0.2355 - acc: 0.9124 - val_loss: 0.2972 - val_acc: 0.9200\n",
            "Epoch 88/100\n",
            "799/799 [==============================] - 0s 143us/step - loss: 0.2360 - acc: 0.9199 - val_loss: 0.3065 - val_acc: 0.8900\n",
            "Epoch 89/100\n",
            "799/799 [==============================] - 0s 128us/step - loss: 0.2364 - acc: 0.9124 - val_loss: 0.3017 - val_acc: 0.9200\n",
            "Epoch 90/100\n",
            "799/799 [==============================] - 0s 129us/step - loss: 0.2350 - acc: 0.9136 - val_loss: 0.3044 - val_acc: 0.9200\n",
            "Epoch 91/100\n",
            "799/799 [==============================] - 0s 123us/step - loss: 0.2352 - acc: 0.9111 - val_loss: 0.3049 - val_acc: 0.9100\n",
            "Epoch 92/100\n",
            "799/799 [==============================] - 0s 134us/step - loss: 0.2377 - acc: 0.9174 - val_loss: 0.3080 - val_acc: 0.8900\n",
            "Epoch 93/100\n",
            "799/799 [==============================] - 0s 129us/step - loss: 0.2356 - acc: 0.9174 - val_loss: 0.3069 - val_acc: 0.8900\n",
            "Epoch 94/100\n",
            "799/799 [==============================] - 0s 128us/step - loss: 0.2352 - acc: 0.9199 - val_loss: 0.3063 - val_acc: 0.8900\n",
            "Epoch 95/100\n",
            "799/799 [==============================] - 0s 134us/step - loss: 0.2358 - acc: 0.9136 - val_loss: 0.3037 - val_acc: 0.9200\n",
            "Epoch 96/100\n",
            "799/799 [==============================] - 0s 164us/step - loss: 0.2350 - acc: 0.9186 - val_loss: 0.3055 - val_acc: 0.8900\n",
            "Epoch 97/100\n",
            "799/799 [==============================] - 0s 142us/step - loss: 0.2349 - acc: 0.9199 - val_loss: 0.3091 - val_acc: 0.8900\n",
            "Epoch 98/100\n",
            "799/799 [==============================] - 0s 130us/step - loss: 0.2335 - acc: 0.9212 - val_loss: 0.3185 - val_acc: 0.8800\n",
            "Epoch 99/100\n",
            "799/799 [==============================] - 0s 127us/step - loss: 0.2348 - acc: 0.9136 - val_loss: 0.3022 - val_acc: 0.9200\n",
            "Epoch 100/100\n",
            "799/799 [==============================] - 0s 130us/step - loss: 0.2349 - acc: 0.9174 - val_loss: 0.3095 - val_acc: 0.8900\n"
          ],
          "name": "stdout"
        }
      ]
    },
    {
      "cell_type": "code",
      "metadata": {
        "id": "YvragDIn1px3",
        "colab_type": "code",
        "colab": {
          "base_uri": "https://localhost:8080/",
          "height": 51
        },
        "outputId": "269e5f53-035a-40ae-9c48-42f9e0ae822e"
      },
      "source": [
        "model.evaluate(X_test, Y_test)[1]"
      ],
      "execution_count": null,
      "outputs": [
        {
          "output_type": "stream",
          "text": [
            "100/100 [==============================] - 0s 200us/step\n"
          ],
          "name": "stdout"
        },
        {
          "output_type": "execute_result",
          "data": {
            "text/plain": [
              "0.88"
            ]
          },
          "metadata": {
            "tags": []
          },
          "execution_count": 18
        }
      ]
    },
    {
      "cell_type": "code",
      "metadata": {
        "id": "zLLbSIIh18cq",
        "colab_type": "code",
        "colab": {
          "base_uri": "https://localhost:8080/",
          "height": 105
        },
        "outputId": "b14297f3-ca37-44bb-d17e-8eb854f04e2c"
      },
      "source": [
        "# Make a prediction\n",
        "prediction = model.predict(X_test)\n",
        "prediction = [1 if y >=.50 else 0 for y in prediction]\n",
        "print(prediction)\n",
        "print(Y_test)\n",
        "#print(X_test.shape)\n",
        "#print(type(X_test))"
      ],
      "execution_count": null,
      "outputs": [
        {
          "output_type": "stream",
          "text": [
            "[1, 0, 0, 1, 1, 0, 1, 1, 0, 1, 0, 1, 1, 0, 1, 1, 0, 1, 1, 0, 1, 0, 1, 1, 0, 1, 1, 0, 1, 1, 1, 0, 1, 0, 1, 1, 1, 1, 1, 0, 1, 0, 1, 0, 1, 1, 1, 1, 0, 1, 0, 1, 1, 1, 1, 1, 1, 1, 0, 0, 1, 1, 1, 0, 1, 0, 1, 1, 1, 1, 1, 1, 1, 1, 0, 1, 1, 1, 0, 1, 0, 0, 0, 1, 0, 1, 0, 1, 1, 1, 1, 0, 0, 1, 0, 0, 1, 0, 1, 0]\n",
            "[1 0 1 1 1 0 1 1 0 0 0 1 1 0 0 1 0 1 0 0 0 0 1 1 0 1 1 0 0 1 1 0 1 0 1 0 1\n",
            " 1 1 0 0 0 1 0 1 1 1 1 0 1 0 1 1 1 1 1 1 1 0 1 1 0 1 1 1 0 1 1 1 1 1 1 1 1\n",
            " 0 1 1 1 0 1 0 0 0 1 1 1 0 1 1 1 1 0 0 1 0 0 1 0 1 0]\n"
          ],
          "name": "stdout"
        }
      ]
    },
    {
      "cell_type": "code",
      "metadata": {
        "id": "FZe2niV-2mTH",
        "colab_type": "code",
        "colab": {
          "base_uri": "https://localhost:8080/",
          "height": 312
        },
        "outputId": "822f386e-ca7a-43f3-b52b-70f210d7ccc6"
      },
      "source": [
        "# Visualize the training loss and the validation loss to see if the model is overfitting\n",
        "plt.plot(hist.history['loss'])\n",
        "plt.plot(hist.history['val_loss'])\n",
        "plt.title('Model Loss')\n",
        "plt.ylabel('Loss')\n",
        "plt.xlabel('Epoch')\n",
        "plt.legend(['Train', 'Val'], loc='upper right')"
      ],
      "execution_count": null,
      "outputs": [
        {
          "output_type": "execute_result",
          "data": {
            "text/plain": [
              "<matplotlib.legend.Legend at 0x7fedd0671940>"
            ]
          },
          "metadata": {
            "tags": []
          },
          "execution_count": 21
        },
        {
          "output_type": "display_data",
          "data": {
            "image/png": "[encoded data removed]",
            "text/plain": [
              "<Figure size 432x288 with 1 Axes>"
            ]
          },
          "metadata": {
            "tags": []
          }
        }
      ]
    },
    {
      "cell_type": "code",
      "metadata": {
        "id": "B8HD9Hvb2vNO",
        "colab_type": "code",
        "colab": {
          "base_uri": "https://localhost:8080/",
          "height": 312
        },
        "outputId": "20b23c47-58b4-4a86-f095-18e32215b43a"
      },
      "source": [
        "# Visualize the training accuracy and the validation accuracy to see if the model is overfitting\n",
        "plt.plot(hist.history['acc'])\n",
        "plt.plot(hist.history['val_acc'])\n",
        "plt.title('Model Accuracy')\n",
        "plt.ylabel('Accuracy')\n",
        "plt.xlabel('Epoch')\n",
        "plt.legend(['Train', 'Val'], loc='lower right')"
      ],
      "execution_count": null,
      "outputs": [
        {
          "output_type": "execute_result",
          "data": {
            "text/plain": [
              "<matplotlib.legend.Legend at 0x7fedd01b1048>"
            ]
          },
          "metadata": {
            "tags": []
          },
          "execution_count": 22
        },
        {
          "output_type": "display_data",
          "data": {
            "image/png": "[encoded data removed]",
            "text/plain": [
              "<Figure size 432x288 with 1 Axes>"
            ]
          },
          "metadata": {
            "tags": []
          }
        }
      ]
    },
    {
      "cell_type": "code",
      "metadata": {
        "id": "XDVOQoBd21ZN",
        "colab_type": "code",
        "colab": {
          "base_uri": "https://localhost:8080/",
          "height": 34
        },
        "outputId": "66d5b8d0-4e08-421f-a78a-e1367093b78a"
      },
      "source": [
        "# serialize model to JSON\n",
        "#model_json = model.to_json()\n",
        "#with open(\"model.json\", \"w\") as json_file:\n",
        "#   json_file.write(model_json)\n",
        " \n",
        "# serialize weights to HDF5\n",
        "#model.save_weights(\"model.h5\")\n",
        "model.save(\"full.h5\")\n",
        "print(\"Saved model to disk\")\n",
        "from google.colab import files\n",
        "#files.download(\"model.json\")\n",
        "#files.download(\"model.h5\")\n",
        "files.download(\"full.h5\")"
      ],
      "execution_count": null,
      "outputs": [
        {
          "output_type": "stream",
          "text": [
            "Saved model to disk\n"
          ],
          "name": "stdout"
        }
      ]
    }
  ]
}