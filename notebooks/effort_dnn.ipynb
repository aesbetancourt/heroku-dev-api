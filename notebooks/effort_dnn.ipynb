{
  "nbformat": 4,
  "nbformat_minor": 0,
  "metadata": {
    "colab": {
      "name": "effort_dnn.ipynb",
      "provenance": []
    },
    "kernelspec": {
      "name": "python3",
      "display_name": "Python 3"
    }
  },
  "cells": [
    {
      "cell_type": "code",
      "metadata": {
        "id": "i_dYYmZiebjk",
        "colab_type": "code",
        "colab": {}
      },
      "source": [
        "# Import the dependencies\n",
        "from keras.models import Sequential # Initialize ANN\n",
        "from keras.layers import Dense # Tell us the number of layers, neurons\n",
        "from sklearn.model_selection import train_test_split # To split the data into training and testing sets\n",
        "#from sklearn.preprocessing import MinMaxScaler # To scale the data\n",
        "import matplotlib.pyplot as plt\n",
        "import pandas as pd"
      ],
      "execution_count": null,
      "outputs": []
    },
    {
      "cell_type": "code",
      "metadata": {
        "id": "NUyCPQzmel2_",
        "colab_type": "code",
        "colab": {
          "resources": {
            "http://localhost:8080/nbextensions/google.colab/files.js": {
              "data": "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",
              "ok": true,
              "headers": [
                [
                  "content-type",
                  "application/javascript"
                ]
              ],
              "status": 200,
              "status_text": ""
            }
          },
          "base_uri": "https://localhost:8080/",
          "height": 323
        },
        "outputId": "67fab820-4f9a-473e-bb11-5f526e31ae09"
      },
      "source": [
        "from google.colab import files\n",
        "uploaded = files.upload() # Upload the data\n",
        "df = pd.read_csv('new.csv') # Load the data\n",
        "df.head(7) # Print the first 7 rows of data"
      ],
      "execution_count": null,
      "outputs": [
        {
          "output_type": "display_data",
          "data": {
            "text/html": [
              "\n",
              "     <input type=\"file\" id=\"files-a7ad8e26-2cd2-44bc-b87e-281185393309\" name=\"files[]\" multiple disabled />\n",
              "     <output id=\"result-a7ad8e26-2cd2-44bc-b87e-281185393309\">\n",
              "      Upload widget is only available when the cell has been executed in the\n",
              "      current browser session. Please rerun this cell to enable.\n",
              "      </output>\n",
              "      <script src=\"/nbextensions/google.colab/files.js\"></script> "
            ],
            "text/plain": [
              "<IPython.core.display.HTML object>"
            ]
          },
          "metadata": {
            "tags": []
          }
        },
        {
          "output_type": "stream",
          "text": [
            "Saving new.csv to new (2).csv\n"
          ],
          "name": "stdout"
        },
        {
          "output_type": "execute_result",
          "data": {
            "text/html": [
              "<div>\n",
              "<style scoped>\n",
              "    .dataframe tbody tr th:only-of-type {\n",
              "        vertical-align: middle;\n",
              "    }\n",
              "\n",
              "    .dataframe tbody tr th {\n",
              "        vertical-align: top;\n",
              "    }\n",
              "\n",
              "    .dataframe thead th {\n",
              "        text-align: right;\n",
              "    }\n",
              "</style>\n",
              "<table border=\"1\" class=\"dataframe\">\n",
              "  <thead>\n",
              "    <tr style=\"text-align: right;\">\n",
              "      <th></th>\n",
              "      <th>TeamExp</th>\n",
              "      <th>ManagerExp</th>\n",
              "      <th>Length</th>\n",
              "      <th>Entities</th>\n",
              "      <th>Language</th>\n",
              "      <th>Effort</th>\n",
              "    </tr>\n",
              "  </thead>\n",
              "  <tbody>\n",
              "    <tr>\n",
              "      <th>0</th>\n",
              "      <td>1</td>\n",
              "      <td>4</td>\n",
              "      <td>12</td>\n",
              "      <td>52</td>\n",
              "      <td>1</td>\n",
              "      <td>5152</td>\n",
              "    </tr>\n",
              "    <tr>\n",
              "      <th>1</th>\n",
              "      <td>0</td>\n",
              "      <td>0</td>\n",
              "      <td>4</td>\n",
              "      <td>124</td>\n",
              "      <td>1</td>\n",
              "      <td>5635</td>\n",
              "    </tr>\n",
              "    <tr>\n",
              "      <th>2</th>\n",
              "      <td>4</td>\n",
              "      <td>4</td>\n",
              "      <td>1</td>\n",
              "      <td>60</td>\n",
              "      <td>1</td>\n",
              "      <td>805</td>\n",
              "    </tr>\n",
              "    <tr>\n",
              "      <th>3</th>\n",
              "      <td>0</td>\n",
              "      <td>0</td>\n",
              "      <td>5</td>\n",
              "      <td>119</td>\n",
              "      <td>1</td>\n",
              "      <td>3829</td>\n",
              "    </tr>\n",
              "    <tr>\n",
              "      <th>4</th>\n",
              "      <td>0</td>\n",
              "      <td>0</td>\n",
              "      <td>4</td>\n",
              "      <td>94</td>\n",
              "      <td>1</td>\n",
              "      <td>2149</td>\n",
              "    </tr>\n",
              "    <tr>\n",
              "      <th>5</th>\n",
              "      <td>0</td>\n",
              "      <td>0</td>\n",
              "      <td>4</td>\n",
              "      <td>89</td>\n",
              "      <td>1</td>\n",
              "      <td>2821</td>\n",
              "    </tr>\n",
              "    <tr>\n",
              "      <th>6</th>\n",
              "      <td>2</td>\n",
              "      <td>1</td>\n",
              "      <td>9</td>\n",
              "      <td>42</td>\n",
              "      <td>2</td>\n",
              "      <td>2569</td>\n",
              "    </tr>\n",
              "  </tbody>\n",
              "</table>\n",
              "</div>"
            ],
            "text/plain": [
              "   TeamExp  ManagerExp  Length  Entities  Language  Effort\n",
              "0        1           4      12        52         1    5152\n",
              "1        0           0       4       124         1    5635\n",
              "2        4           4       1        60         1     805\n",
              "3        0           0       5       119         1    3829\n",
              "4        0           0       4        94         1    2149\n",
              "5        0           0       4        89         1    2821\n",
              "6        2           1       9        42         2    2569"
            ]
          },
          "metadata": {
            "tags": []
          },
          "execution_count": 269
        }
      ]
    },
    {
      "cell_type": "code",
      "metadata": {
        "id": "nSL5D6EAeue0",
        "colab_type": "code",
        "colab": {
          "base_uri": "https://localhost:8080/",
          "height": 1000
        },
        "outputId": "e0aa539e-cb6a-493b-ed7e-186083f95480"
      },
      "source": [
        "# Convert the data into an array\n",
        "dataset = df.values\n",
        "dataset"
      ],
      "execution_count": null,
      "outputs": [
        {
          "output_type": "execute_result",
          "data": {
            "text/plain": [
              "array([[    1,     4,    12,    52,     1,  5152],\n",
              "       [    0,     0,     4,   124,     1,  5635],\n",
              "       [    4,     4,     1,    60,     1,   805],\n",
              "       [    0,     0,     5,   119,     1,  3829],\n",
              "       [    0,     0,     4,    94,     1,  2149],\n",
              "       [    0,     0,     4,    89,     1,  2821],\n",
              "       [    2,     1,     9,    42,     2,  2569],\n",
              "       [    1,     2,    13,    52,     1,  3913],\n",
              "       [    3,     1,    12,    88,     1,  7854],\n",
              "       [    3,     4,     4,    38,     1,  2422],\n",
              "       [    4,     1,    21,    99,     1,  4067],\n",
              "       [    2,     1,    17,   112,     1,  9051],\n",
              "       [    1,     1,     3,    72,     1,  2282],\n",
              "       [    3,     4,     8,    61,     1,  4172],\n",
              "       [    4,     4,     9,   121,     1,  4977],\n",
              "       [    3,     2,     8,    48,     2,  1617],\n",
              "       [    4,     3,     8,    43,     1,  3192],\n",
              "       [    4,     4,    14,   316,     2,  3437],\n",
              "       [    3,     4,    14,   386,     2,  4494],\n",
              "       [    4,     2,     5,    34,     1,   840],\n",
              "       [    4,     4,    12,   269,     2, 14973],\n",
              "       [    2,     4,    18,   170,     1,  5180],\n",
              "       [    2,     4,     5,   132,     1,  5775],\n",
              "       [    4,     1,    20,    78,     1, 10577],\n",
              "       [    1,     4,     8,   200,     1,  3983],\n",
              "       [    4,     1,    14,   230,     1,  3164],\n",
              "       [    2,     0,     6,   235,     1,  3542],\n",
              "       [    3,     1,    14,   324,     1,  4277],\n",
              "       [    4,     4,    16,   170,     1,  7252],\n",
              "       [    4,     1,    14,   277,     1,  3948],\n",
              "       [    4,     3,     6,   128,     1,  3927],\n",
              "       [    1,     1,     9,    38,     3,   710],\n",
              "       [    4,     4,     9,    78,     3,  2429],\n",
              "       [    1,     1,     5,    91,     1,  6405],\n",
              "       [    2,     2,     3,    49,     3,   651],\n",
              "       [    1,     3,    17,   119,     2,  9135],\n",
              "       [    2,     4,    11,    88,     3,  1435],\n",
              "       [    1,     1,     8,   144,     1,  5922],\n",
              "       [    1,     4,     4,    59,     3,   847],\n",
              "       [    3,     3,    16,   145,     2,  8050],\n",
              "       [    1,     1,     9,    48,     1,  4620],\n",
              "       [    2,     4,    34,   132,     3,  2352],\n",
              "       [    1,     1,    10,    54,     1,  2174],\n",
              "       [    1,     4,    39,   230,     1, 19894],\n",
              "       [    2,     1,    18,   126,     1,  6699],\n",
              "       [    2,     3,    27,   332,     1, 14987],\n",
              "       [    2,     2,     9,     7,     1,  4004],\n",
              "       [    4,     3,    11,   180,     1, 12824],\n",
              "       [    2,     3,     8,    39,     1,  2331],\n",
              "       [    3,     3,     9,   108,     1,  5817],\n",
              "       [    2,     3,     7,    72,     1,  2989],\n",
              "       [    3,     3,     6,    49,     1,  3136],\n",
              "       [    2,     3,    17,   121,     1, 14434],\n",
              "       [    1,     1,    12,    96,     1,  2583],\n",
              "       [    1,     3,    12,    89,     2,  3647],\n",
              "       [    3,     7,    13,   387,     2,  8232],\n",
              "       [    1,     1,    12,   112,     2,  3276],\n",
              "       [    1,     4,     8,    52,     2,  2723],\n",
              "       [    3,     3,     5,   126,     2,  3472],\n",
              "       [    1,     2,     6,    32,     2,  1575],\n",
              "       [    1,     1,    12,   107,     2,  2926],\n",
              "       [    3,     2,     6,    45,     2,  1876],\n",
              "       [    1,     1,     5,    99,     1,  2520],\n",
              "       [    4,     7,    13,    74,     1,  1603],\n",
              "       [    1,     3,     8,    97,     2,  3626],\n",
              "       [    2,     1,    10,   110,     2,  6783],\n",
              "       [    2,     4,    15,   184,     2, 11361],\n",
              "       [    1,     3,     6,    31,     2,  1267],\n",
              "       [    1,     2,     5,    43,     2,  2548],\n",
              "       [    3,     4,    10,    57,     2,  1155],\n",
              "       [    0,     4,     6,    42,     3,   546],\n",
              "       [    2,     3,    13,    77,     2,  2275],\n",
              "       [    4,     5,    26,   227,     2,  9100],\n",
              "       [    0,     2,     6,    73,     3,   595],\n",
              "       [    0,     1,    22,   143,     2,  3941],\n",
              "       [    2,     3,    24,   182,     2, 13860],\n",
              "       [    4,     4,    12,   169,     3,  1400],\n",
              "       [    4,     3,    12,    73,     1,  2800],\n",
              "       [    4,     4,    24,   193,     1,  9520],\n",
              "       [    4,     3,    12,   176,     3,  5880],\n",
              "       [    4,     4,    36,   241,     1, 23940]])"
            ]
          },
          "metadata": {
            "tags": []
          },
          "execution_count": 320
        }
      ]
    },
    {
      "cell_type": "code",
      "metadata": {
        "id": "uWPMtQgbe9ty",
        "colab_type": "code",
        "colab": {}
      },
      "source": [
        "# Split the dataset into independent and dependent datasets\n",
        "X = dataset[:, 0:5] # Get all the rows from the columns [0, 5)\n",
        "\n",
        "Y = dataset[:, 5] # Get all the rows from columns at position 5 (the 6th column)\n"
      ],
      "execution_count": null,
      "outputs": []
    },
    {
      "cell_type": "code",
      "metadata": {
        "id": "vrOnej2hfYO9",
        "colab_type": "code",
        "colab": {
          "base_uri": "https://localhost:8080/",
          "height": 1000
        },
        "outputId": "8f0b4573-d66f-4dd9-c8b1-fcda97676116"
      },
      "source": [
        "# Use the min-max scaler method from preprocesing which scales the dataset so that all\n",
        "# the features lie between 0 and 1 inclusive\n",
        "\n",
        "#from sklearn.preprocessing import StandardScaler\n",
        "sc = StandardScaler()\n",
        "X_scale = sc.fit_transform(X)\n",
        "\n",
        "X_scale"
      ],
      "execution_count": null,
      "outputs": [
        {
          "output_type": "execute_result",
          "data": {
            "text/plain": [
              "array([[-0.93064538,  0.92221087,  0.0451754 , -0.83376273, -0.79056942],\n",
              "       [-1.68446813, -1.72200437, -1.03903409,  0.01975741, -0.79056942],\n",
              "       [ 1.33082289,  0.92221087, -1.44561264, -0.73892716, -0.79056942],\n",
              "       [-1.68446813, -1.72200437, -0.9035079 , -0.03951482, -0.79056942],\n",
              "       [-1.68446813, -1.72200437, -1.03903409, -0.33587598, -0.79056942],\n",
              "       [-1.68446813, -1.72200437, -1.03903409, -0.39514821, -0.79056942],\n",
              "       [-0.17682262, -1.06095056, -0.36140316, -0.95230719,  0.63245553],\n",
              "       [-0.93064538, -0.39989675,  0.18070158, -0.83376273, -0.79056942],\n",
              "       [ 0.57700013, -1.06095056,  0.0451754 , -0.40700266, -0.79056942],\n",
              "       [ 0.57700013,  0.92221087, -1.03903409, -0.99972498, -0.79056942],\n",
              "       [ 1.33082289, -1.06095056,  1.26491106, -0.27660375, -0.79056942],\n",
              "       [-0.17682262, -1.06095056,  0.72280632, -0.12249595, -0.79056942],\n",
              "       [-0.93064538, -1.06095056, -1.17456027, -0.5966738 , -0.79056942],\n",
              "       [ 0.57700013,  0.92221087, -0.49692935, -0.72707271, -0.79056942],\n",
              "       [ 1.33082289,  0.92221087, -0.36140316, -0.01580593, -0.79056942],\n",
              "       [ 0.57700013, -0.39989675, -0.49692935, -0.88118051,  0.63245553],\n",
              "       [ 1.33082289,  0.26115706, -0.49692935, -0.94045275, -0.79056942],\n",
              "       [ 1.33082289,  0.92221087,  0.31622777,  2.29581112,  0.63245553],\n",
              "       [ 0.57700013,  0.92221087,  0.31622777,  3.12562236,  0.63245553],\n",
              "       [ 1.33082289, -0.39989675, -0.9035079 , -1.04714276, -0.79056942],\n",
              "       [ 1.33082289,  0.92221087,  0.0451754 ,  1.73865214,  0.63245553],\n",
              "       [-0.17682262,  0.92221087,  0.85833251,  0.56506194, -0.79056942],\n",
              "       [-0.17682262,  0.92221087, -0.9035079 ,  0.11459298, -0.79056942],\n",
              "       [ 1.33082289, -1.06095056,  1.12938488, -0.52554712, -0.79056942],\n",
              "       [-0.93064538,  0.92221087, -0.49692935,  0.92069534, -0.79056942],\n",
              "       [ 1.33082289, -1.06095056,  0.31622777,  1.27632873, -0.79056942],\n",
              "       [-0.17682262, -1.72200437, -0.76798172,  1.33560096, -0.79056942],\n",
              "       [ 0.57700013, -1.06095056,  0.31622777,  2.39064669, -0.79056942],\n",
              "       [ 1.33082289,  0.92221087,  0.58728014,  0.56506194, -0.79056942],\n",
              "       [ 1.33082289, -1.06095056,  0.31622777,  1.83348771, -0.79056942],\n",
              "       [ 1.33082289,  0.26115706, -0.76798172,  0.0671752 , -0.79056942],\n",
              "       [-0.93064538, -1.06095056, -0.36140316, -0.99972498,  2.05548048],\n",
              "       [ 1.33082289,  0.92221087, -0.36140316, -0.52554712,  2.05548048],\n",
              "       [-0.93064538, -1.06095056, -0.9035079 , -0.37143932, -0.79056942],\n",
              "       [-0.17682262, -0.39989675, -1.17456027, -0.86932607,  2.05548048],\n",
              "       [-0.93064538,  0.26115706,  0.72280632, -0.03951482,  0.63245553],\n",
              "       [-0.17682262,  0.92221087, -0.09035079, -0.40700266,  2.05548048],\n",
              "       [-0.93064538, -1.06095056, -0.49692935,  0.25684634, -0.79056942],\n",
              "       [-0.93064538,  0.92221087, -1.03903409, -0.7507816 ,  2.05548048],\n",
              "       [ 0.57700013,  0.26115706,  0.58728014,  0.26870078,  0.63245553],\n",
              "       [-0.93064538, -1.06095056, -0.36140316, -0.88118051, -0.79056942],\n",
              "       [-0.17682262,  0.92221087,  3.02675147,  0.11459298,  2.05548048],\n",
              "       [-0.93064538, -1.06095056, -0.22587698, -0.81005384, -0.79056942],\n",
              "       [-0.93064538,  0.92221087,  3.7043824 ,  1.27632873, -0.79056942],\n",
              "       [-0.17682262, -1.06095056,  0.85833251,  0.0434663 , -0.79056942],\n",
              "       [-0.17682262,  0.26115706,  2.07806818,  2.48548226, -0.79056942],\n",
              "       [-0.17682262, -0.39989675, -0.36140316, -1.36721282, -0.79056942],\n",
              "       [ 1.33082289,  0.26115706, -0.09035079,  0.68360641, -0.79056942],\n",
              "       [-0.17682262,  0.26115706, -0.49692935, -0.98787053, -0.79056942],\n",
              "       [ 0.57700013,  0.26115706, -0.36140316, -0.16991373, -0.79056942],\n",
              "       [-0.17682262,  0.26115706, -0.63245553, -0.5966738 , -0.79056942],\n",
              "       [ 0.57700013,  0.26115706, -0.76798172, -0.86932607, -0.79056942],\n",
              "       [-0.17682262,  0.26115706,  0.72280632, -0.01580593, -0.79056942],\n",
              "       [-0.93064538, -1.06095056,  0.0451754 , -0.31216709, -0.79056942],\n",
              "       [-0.93064538,  0.26115706,  0.0451754 , -0.39514821,  0.63245553],\n",
              "       [ 0.57700013,  2.9053723 ,  0.18070158,  3.13747681,  0.63245553],\n",
              "       [-0.93064538, -1.06095056,  0.0451754 , -0.12249595,  0.63245553],\n",
              "       [-0.93064538,  0.92221087, -0.49692935, -0.83376273,  0.63245553],\n",
              "       [ 0.57700013,  0.26115706, -0.9035079 ,  0.0434663 ,  0.63245553],\n",
              "       [-0.93064538, -0.39989675, -0.76798172, -1.07085166,  0.63245553],\n",
              "       [-0.93064538, -1.06095056,  0.0451754 , -0.18176818,  0.63245553],\n",
              "       [ 0.57700013, -0.39989675, -0.76798172, -0.91674385,  0.63245553],\n",
              "       [-0.93064538, -1.06095056, -0.9035079 , -0.27660375, -0.79056942],\n",
              "       [ 1.33082289,  2.9053723 ,  0.18070158, -0.57296491, -0.79056942],\n",
              "       [-0.93064538,  0.26115706, -0.49692935, -0.30031264,  0.63245553],\n",
              "       [-0.17682262, -1.06095056, -0.22587698, -0.14620484,  0.63245553],\n",
              "       [-0.17682262,  0.92221087,  0.45175395,  0.73102419,  0.63245553],\n",
              "       [-0.93064538,  0.26115706, -0.76798172, -1.0827061 ,  0.63245553],\n",
              "       [-0.93064538, -0.39989675, -0.9035079 , -0.94045275,  0.63245553],\n",
              "       [ 0.57700013,  0.92221087, -0.22587698, -0.7744905 ,  0.63245553],\n",
              "       [-1.68446813,  0.92221087, -0.76798172, -0.95230719,  2.05548048],\n",
              "       [-0.17682262,  0.26115706,  0.18070158, -0.53740157,  0.63245553],\n",
              "       [ 1.33082289,  1.58326468,  1.94254199,  1.24076539,  0.63245553],\n",
              "       [-1.68446813, -0.39989675, -0.76798172, -0.58481936,  2.05548048],\n",
              "       [-1.68446813, -1.06095056,  1.40043725,  0.24499189,  0.63245553],\n",
              "       [-0.17682262,  0.26115706,  1.67148962,  0.7073153 ,  0.63245553],\n",
              "       [ 1.33082289,  0.92221087,  0.0451754 ,  0.5532075 ,  2.05548048],\n",
              "       [ 1.33082289,  0.26115706,  0.0451754 , -0.58481936, -0.79056942],\n",
              "       [ 1.33082289,  0.92221087,  1.67148962,  0.83771421, -0.79056942],\n",
              "       [ 1.33082289,  0.26115706,  0.0451754 ,  0.63618862,  2.05548048],\n",
              "       [ 1.33082289,  0.92221087,  3.29780385,  1.40672764, -0.79056942]])"
            ]
          },
          "metadata": {
            "tags": []
          },
          "execution_count": 322
        }
      ]
    },
    {
      "cell_type": "code",
      "metadata": {
        "id": "4V-BzJcsfcLo",
        "colab_type": "code",
        "colab": {
          "base_uri": "https://localhost:8080/",
          "height": 34
        },
        "outputId": "b97c2b71-b4c5-4372-d69d-cca70b4a78be"
      },
      "source": [
        "# Split the data into 80% training and 20% (testing(10%) and validating(10%) )\n",
        "X_train, X_val_and_test, Y_train, Y_val_and_test = train_test_split(X_scale, Y, test_size=0.2)\n",
        "X_val, X_test, Y_val, Y_test = train_test_split(X_val_and_test, Y_val_and_test, test_size=0.5)\n",
        "# The training set has 1600 data points while he validation and test set have 200 data points each.\n",
        "# The X variables have 42 input features\n",
        "print(X_train.shape, X_val.shape, X_test.shape, Y_train.shape, Y_val.shape, Y_test.shape)"
      ],
      "execution_count": null,
      "outputs": [
        {
          "output_type": "stream",
          "text": [
            "(64, 5) (8, 5) (9, 5) (64,) (8,) (9,)\n"
          ],
          "name": "stdout"
        }
      ]
    },
    {
      "cell_type": "code",
      "metadata": {
        "id": "aLTrXVn5fhak",
        "colab_type": "code",
        "colab": {}
      },
      "source": [
        "# Build the model and architecture of the DNN\n",
        "model = Sequential() # Initalizes de ANN\n",
        "model.add(Dense(40, activation='sigmoid', input_dim=5))\n",
        "model.add(Dense(1, activation='linear'))"
      ],
      "execution_count": null,
      "outputs": []
    },
    {
      "cell_type": "code",
      "metadata": {
        "id": "PXgcW4N5gi8-",
        "colab_type": "code",
        "colab": {}
      },
      "source": [
        "# Loss function measures how well the model did on traingn and then tries to improve using the optimizer\n",
        "\n",
        "model.compile(loss='mean_squared_error', optimizer='sgd')"
      ],
      "execution_count": null,
      "outputs": []
    },
    {
      "cell_type": "code",
      "metadata": {
        "id": "rOJYtXVKgu3l",
        "colab_type": "code",
        "colab": {
          "base_uri": "https://localhost:8080/",
          "height": 1000
        },
        "outputId": "4f9beadc-b607-4ecc-ba8b-9fb490b14cd0"
      },
      "source": [
        "# Train the model\n",
        "hist = model.fit(\n",
        "    X_train, Y_train,\n",
        "    batch_size=32, epochs=100,\n",
        "    validation_data=(X_val, Y_val)\n",
        ")"
      ],
      "execution_count": null,
      "outputs": [
        {
          "output_type": "stream",
          "text": [
            "Train on 64 samples, validate on 8 samples\n",
            "Epoch 1/100\n",
            "64/64 [==============================] - 0s 659us/step - loss: 35409956.5000 - val_loss: 39141160.0000\n",
            "Epoch 2/100\n",
            "64/64 [==============================] - 0s 75us/step - loss: 26352255.0000 - val_loss: 31269484.0000\n",
            "Epoch 3/100\n",
            "64/64 [==============================] - 0s 78us/step - loss: 23512443.0000 - val_loss: 26406780.0000\n",
            "Epoch 4/100\n",
            "64/64 [==============================] - 0s 84us/step - loss: 21951603.7500 - val_loss: 24423728.0000\n",
            "Epoch 5/100\n",
            "64/64 [==============================] - 0s 107us/step - loss: 20632702.5000 - val_loss: 22361664.0000\n",
            "Epoch 6/100\n",
            "64/64 [==============================] - 0s 93us/step - loss: 19846924.0000 - val_loss: 19910092.0000\n",
            "Epoch 7/100\n",
            "64/64 [==============================] - 0s 83us/step - loss: 18713947.0000 - val_loss: 19141116.0000\n",
            "Epoch 8/100\n",
            "64/64 [==============================] - 0s 126us/step - loss: 17994851.0000 - val_loss: 18130636.0000\n",
            "Epoch 9/100\n",
            "64/64 [==============================] - 0s 85us/step - loss: 17355967.0000 - val_loss: 16598344.0000\n",
            "Epoch 10/100\n",
            "64/64 [==============================] - 0s 90us/step - loss: 16418290.5000 - val_loss: 16478680.0000\n",
            "Epoch 11/100\n",
            "64/64 [==============================] - 0s 87us/step - loss: 15939830.0000 - val_loss: 15330869.0000\n",
            "Epoch 12/100\n",
            "64/64 [==============================] - 0s 78us/step - loss: 15690988.7500 - val_loss: 14788338.0000\n",
            "Epoch 13/100\n",
            "64/64 [==============================] - 0s 77us/step - loss: 15197395.0000 - val_loss: 14402432.0000\n",
            "Epoch 14/100\n",
            "64/64 [==============================] - 0s 81us/step - loss: 14560612.0000 - val_loss: 14414395.0000\n",
            "Epoch 15/100\n",
            "64/64 [==============================] - 0s 80us/step - loss: 14170774.5000 - val_loss: 13688649.0000\n",
            "Epoch 16/100\n",
            "64/64 [==============================] - 0s 78us/step - loss: 13957046.0000 - val_loss: 13582696.0000\n",
            "Epoch 17/100\n",
            "64/64 [==============================] - 0s 78us/step - loss: 13520675.7500 - val_loss: 13274174.0000\n",
            "Epoch 18/100\n",
            "64/64 [==============================] - 0s 76us/step - loss: 13215598.5000 - val_loss: 12695493.0000\n",
            "Epoch 19/100\n",
            "64/64 [==============================] - 0s 78us/step - loss: 13015651.0000 - val_loss: 12428643.0000\n",
            "Epoch 20/100\n",
            "64/64 [==============================] - 0s 80us/step - loss: 13062753.3750 - val_loss: 11668389.0000\n",
            "Epoch 21/100\n",
            "64/64 [==============================] - 0s 82us/step - loss: 12620325.5000 - val_loss: 11850478.0000\n",
            "Epoch 22/100\n",
            "64/64 [==============================] - 0s 69us/step - loss: 12597229.2500 - val_loss: 11482009.0000\n",
            "Epoch 23/100\n",
            "64/64 [==============================] - 0s 118us/step - loss: 12338386.5000 - val_loss: 12175262.0000\n",
            "Epoch 24/100\n",
            "64/64 [==============================] - 0s 97us/step - loss: 12068197.5000 - val_loss: 11655113.0000\n",
            "Epoch 25/100\n",
            "64/64 [==============================] - 0s 90us/step - loss: 11899425.0000 - val_loss: 11525423.0000\n",
            "Epoch 26/100\n",
            "64/64 [==============================] - 0s 84us/step - loss: 11765937.7500 - val_loss: 11461692.0000\n",
            "Epoch 27/100\n",
            "64/64 [==============================] - 0s 80us/step - loss: 11707306.0000 - val_loss: 11753645.0000\n",
            "Epoch 28/100\n",
            "64/64 [==============================] - 0s 112us/step - loss: 11531270.2500 - val_loss: 11410366.0000\n",
            "Epoch 29/100\n",
            "64/64 [==============================] - 0s 86us/step - loss: 11845596.2500 - val_loss: 11939081.0000\n",
            "Epoch 30/100\n",
            "64/64 [==============================] - 0s 80us/step - loss: 11364144.0000 - val_loss: 11166458.0000\n",
            "Epoch 31/100\n",
            "64/64 [==============================] - 0s 101us/step - loss: 11401739.7500 - val_loss: 11429308.0000\n",
            "Epoch 32/100\n",
            "64/64 [==============================] - 0s 76us/step - loss: 11268677.0000 - val_loss: 11394495.0000\n",
            "Epoch 33/100\n",
            "64/64 [==============================] - 0s 89us/step - loss: 11138897.2500 - val_loss: 10880997.0000\n",
            "Epoch 34/100\n",
            "64/64 [==============================] - 0s 120us/step - loss: 11044529.7500 - val_loss: 10991010.0000\n",
            "Epoch 35/100\n",
            "64/64 [==============================] - 0s 85us/step - loss: 10960665.0000 - val_loss: 11108574.0000\n",
            "Epoch 36/100\n",
            "64/64 [==============================] - 0s 86us/step - loss: 10796042.7500 - val_loss: 11005216.0000\n",
            "Epoch 37/100\n",
            "64/64 [==============================] - 0s 74us/step - loss: 10708004.5000 - val_loss: 10693583.0000\n",
            "Epoch 38/100\n",
            "64/64 [==============================] - 0s 84us/step - loss: 10637405.0000 - val_loss: 10608628.0000\n",
            "Epoch 39/100\n",
            "64/64 [==============================] - 0s 76us/step - loss: 10554379.2500 - val_loss: 10783683.0000\n",
            "Epoch 40/100\n",
            "64/64 [==============================] - 0s 80us/step - loss: 10581054.5000 - val_loss: 10534471.0000\n",
            "Epoch 41/100\n",
            "64/64 [==============================] - 0s 79us/step - loss: 10461398.5000 - val_loss: 10574980.0000\n",
            "Epoch 42/100\n",
            "64/64 [==============================] - 0s 80us/step - loss: 10505914.0000 - val_loss: 9919841.0000\n",
            "Epoch 43/100\n",
            "64/64 [==============================] - 0s 74us/step - loss: 10430067.0000 - val_loss: 10858100.0000\n",
            "Epoch 44/100\n",
            "64/64 [==============================] - 0s 82us/step - loss: 10341463.2500 - val_loss: 10427970.0000\n",
            "Epoch 45/100\n",
            "64/64 [==============================] - 0s 87us/step - loss: 10290079.7500 - val_loss: 10367610.0000\n",
            "Epoch 46/100\n",
            "64/64 [==============================] - 0s 95us/step - loss: 10198249.5000 - val_loss: 10554976.0000\n",
            "Epoch 47/100\n",
            "64/64 [==============================] - 0s 87us/step - loss: 10186414.5000 - val_loss: 10861406.0000\n",
            "Epoch 48/100\n",
            "64/64 [==============================] - 0s 87us/step - loss: 10116914.5000 - val_loss: 10708080.0000\n",
            "Epoch 49/100\n",
            "64/64 [==============================] - 0s 90us/step - loss: 10132773.5000 - val_loss: 10410355.0000\n",
            "Epoch 50/100\n",
            "64/64 [==============================] - 0s 81us/step - loss: 10061202.5000 - val_loss: 10803981.0000\n",
            "Epoch 51/100\n",
            "64/64 [==============================] - 0s 91us/step - loss: 10030580.5000 - val_loss: 10568939.0000\n",
            "Epoch 52/100\n",
            "64/64 [==============================] - 0s 81us/step - loss: 10084309.5000 - val_loss: 10303223.0000\n",
            "Epoch 53/100\n",
            "64/64 [==============================] - 0s 79us/step - loss: 10061367.5000 - val_loss: 11107984.0000\n",
            "Epoch 54/100\n",
            "64/64 [==============================] - 0s 83us/step - loss: 9969993.2500 - val_loss: 10446584.0000\n",
            "Epoch 55/100\n",
            "64/64 [==============================] - 0s 78us/step - loss: 9985456.0000 - val_loss: 10952965.0000\n",
            "Epoch 56/100\n",
            "64/64 [==============================] - 0s 83us/step - loss: 9937581.5000 - val_loss: 11199882.0000\n",
            "Epoch 57/100\n",
            "64/64 [==============================] - 0s 88us/step - loss: 9803044.0000 - val_loss: 10853813.0000\n",
            "Epoch 58/100\n",
            "64/64 [==============================] - 0s 84us/step - loss: 9905586.5000 - val_loss: 11328187.0000\n",
            "Epoch 59/100\n",
            "64/64 [==============================] - 0s 86us/step - loss: 10027299.5000 - val_loss: 11665814.0000\n",
            "Epoch 60/100\n",
            "64/64 [==============================] - 0s 91us/step - loss: 9741171.5000 - val_loss: 10875501.0000\n",
            "Epoch 61/100\n",
            "64/64 [==============================] - 0s 81us/step - loss: 9948313.2500 - val_loss: 10243384.0000\n",
            "Epoch 62/100\n",
            "64/64 [==============================] - 0s 85us/step - loss: 9678032.5000 - val_loss: 10737036.0000\n",
            "Epoch 63/100\n",
            "64/64 [==============================] - 0s 76us/step - loss: 9645786.7500 - val_loss: 11020757.0000\n",
            "Epoch 64/100\n",
            "64/64 [==============================] - 0s 191us/step - loss: 9724956.0000 - val_loss: 11312229.0000\n",
            "Epoch 65/100\n",
            "64/64 [==============================] - 0s 91us/step - loss: 9593755.0000 - val_loss: 11056105.0000\n",
            "Epoch 66/100\n",
            "64/64 [==============================] - 0s 76us/step - loss: 9589163.0000 - val_loss: 10774092.0000\n",
            "Epoch 67/100\n",
            "64/64 [==============================] - 0s 76us/step - loss: 9639907.2500 - val_loss: 10634588.0000\n",
            "Epoch 68/100\n",
            "64/64 [==============================] - 0s 79us/step - loss: 9596950.2500 - val_loss: 10691508.0000\n",
            "Epoch 69/100\n",
            "64/64 [==============================] - 0s 83us/step - loss: 9641413.5000 - val_loss: 10552090.0000\n",
            "Epoch 70/100\n",
            "64/64 [==============================] - 0s 76us/step - loss: 9491632.0000 - val_loss: 11045812.0000\n",
            "Epoch 71/100\n",
            "64/64 [==============================] - 0s 189us/step - loss: 9457500.2500 - val_loss: 11040232.0000\n",
            "Epoch 72/100\n",
            "64/64 [==============================] - 0s 84us/step - loss: 9572623.1250 - val_loss: 10660142.0000\n",
            "Epoch 73/100\n",
            "64/64 [==============================] - 0s 78us/step - loss: 9447390.5000 - val_loss: 11370289.0000\n",
            "Epoch 74/100\n",
            "64/64 [==============================] - 0s 80us/step - loss: 9378968.5000 - val_loss: 11463254.0000\n",
            "Epoch 75/100\n",
            "64/64 [==============================] - 0s 76us/step - loss: 9344955.5000 - val_loss: 11442574.0000\n",
            "Epoch 76/100\n",
            "64/64 [==============================] - 0s 88us/step - loss: 9338752.7500 - val_loss: 11984579.0000\n",
            "Epoch 77/100\n",
            "64/64 [==============================] - 0s 86us/step - loss: 9444065.5000 - val_loss: 11927224.0000\n",
            "Epoch 78/100\n",
            "64/64 [==============================] - 0s 82us/step - loss: 9528784.0000 - val_loss: 11541780.0000\n",
            "Epoch 79/100\n",
            "64/64 [==============================] - 0s 79us/step - loss: 9503374.5000 - val_loss: 11552249.0000\n",
            "Epoch 80/100\n",
            "64/64 [==============================] - 0s 73us/step - loss: 9553141.5000 - val_loss: 12649387.0000\n",
            "Epoch 81/100\n",
            "64/64 [==============================] - 0s 73us/step - loss: 9577107.2500 - val_loss: 13207234.0000\n",
            "Epoch 82/100\n",
            "64/64 [==============================] - 0s 82us/step - loss: 9335800.0000 - val_loss: 12532066.0000\n",
            "Epoch 83/100\n",
            "64/64 [==============================] - 0s 81us/step - loss: 9519437.0000 - val_loss: 12878308.0000\n",
            "Epoch 84/100\n",
            "64/64 [==============================] - 0s 83us/step - loss: 9524735.5000 - val_loss: 12958613.0000\n",
            "Epoch 85/100\n",
            "64/64 [==============================] - 0s 75us/step - loss: 9447494.7500 - val_loss: 11350713.0000\n",
            "Epoch 86/100\n",
            "64/64 [==============================] - 0s 69us/step - loss: 9480931.0000 - val_loss: 11298308.0000\n",
            "Epoch 87/100\n",
            "64/64 [==============================] - 0s 74us/step - loss: 9530777.5000 - val_loss: 10975219.0000\n",
            "Epoch 88/100\n",
            "64/64 [==============================] - 0s 77us/step - loss: 9505083.5000 - val_loss: 11600205.0000\n",
            "Epoch 89/100\n",
            "64/64 [==============================] - 0s 72us/step - loss: 9564888.5000 - val_loss: 11823536.0000\n",
            "Epoch 90/100\n",
            "64/64 [==============================] - 0s 71us/step - loss: 9457028.5000 - val_loss: 11780122.0000\n",
            "Epoch 91/100\n",
            "64/64 [==============================] - 0s 74us/step - loss: 9466594.5000 - val_loss: 11067939.0000\n",
            "Epoch 92/100\n",
            "64/64 [==============================] - 0s 83us/step - loss: 9372754.0000 - val_loss: 11592551.0000\n",
            "Epoch 93/100\n",
            "64/64 [==============================] - 0s 93us/step - loss: 9414473.5000 - val_loss: 11194667.0000\n",
            "Epoch 94/100\n",
            "64/64 [==============================] - 0s 91us/step - loss: 9316342.5000 - val_loss: 11553042.0000\n",
            "Epoch 95/100\n",
            "64/64 [==============================] - 0s 81us/step - loss: 9694236.5000 - val_loss: 12367659.0000\n",
            "Epoch 96/100\n",
            "64/64 [==============================] - 0s 81us/step - loss: 9324373.0000 - val_loss: 11625564.0000\n",
            "Epoch 97/100\n",
            "64/64 [==============================] - 0s 77us/step - loss: 9285441.5000 - val_loss: 11320189.0000\n",
            "Epoch 98/100\n",
            "64/64 [==============================] - 0s 77us/step - loss: 9463869.5000 - val_loss: 11006700.0000\n",
            "Epoch 99/100\n",
            "64/64 [==============================] - 0s 77us/step - loss: 9345345.0000 - val_loss: 11960150.0000\n",
            "Epoch 100/100\n",
            "64/64 [==============================] - 0s 72us/step - loss: 9220909.5000 - val_loss: 11568712.0000\n"
          ],
          "name": "stdout"
        }
      ]
    },
    {
      "cell_type": "code",
      "metadata": {
        "id": "CMnDLpAGg2gF",
        "colab_type": "code",
        "colab": {
          "base_uri": "https://localhost:8080/",
          "height": 51
        },
        "outputId": "0c8c3541-164d-4851-cc9c-0fcf0f492b4d"
      },
      "source": [
        "model.evaluate(X_train, Y_train)"
      ],
      "execution_count": null,
      "outputs": [
        {
          "output_type": "stream",
          "text": [
            "64/64 [==============================] - 0s 111us/step\n"
          ],
          "name": "stdout"
        },
        {
          "output_type": "execute_result",
          "data": {
            "text/plain": [
              "39000177.0"
            ]
          },
          "metadata": {
            "tags": []
          },
          "execution_count": 328
        }
      ]
    },
    {
      "cell_type": "code",
      "metadata": {
        "id": "LD0e5BqphN5J",
        "colab_type": "code",
        "colab": {
          "base_uri": "https://localhost:8080/",
          "height": 187
        },
        "outputId": "f24b4472-3ed1-41e2-80ac-448303d12129"
      },
      "source": [
        "# Make a prediction\n",
        "prediction = model.predict(X_test)\n",
        "print(prediction)\n",
        "print(Y_test)\n",
        "#print(X_test.shape)\n",
        "#print(type(X_test))"
      ],
      "execution_count": null,
      "outputs": [
        {
          "output_type": "stream",
          "text": [
            "[[11709.968 ]\n",
            " [ 6881.619 ]\n",
            " [ 4519.789 ]\n",
            " [ 2572.2515]\n",
            " [ 3650.0522]\n",
            " [ 6719.6323]\n",
            " [ 9000.803 ]\n",
            " [ 2861.4233]\n",
            " [ 2779.6995]]\n",
            "[14987  8050  5635  2821  5880 14973  9100  2422  3136]\n"
          ],
          "name": "stdout"
        }
      ]
    },
    {
      "cell_type": "code",
      "metadata": {
        "id": "GTQpGRa6ZNk2",
        "colab_type": "code",
        "colab": {
          "base_uri": "https://localhost:8080/",
          "height": 312
        },
        "outputId": "caceb8e7-b5b7-4da4-9e6e-7ba0de7c45f8"
      },
      "source": [
        "# Visualize the training loss and the validation loss to see if the model is overfitting\n",
        "plt.plot(hist.history['loss'])\n",
        "plt.plot(hist.history['val_loss'])\n",
        "plt.title('Model Loss')\n",
        "plt.ylabel('Loss')\n",
        "plt.xlabel('Epoch')\n",
        "plt.legend(['Train', 'Val'], loc='upper right')"
      ],
      "execution_count": null,
      "outputs": [
        {
          "output_type": "execute_result",
          "data": {
            "text/plain": [
              "<matplotlib.legend.Legend at 0x7f719af9a080>"
            ]
          },
          "metadata": {
            "tags": []
          },
          "execution_count": 335
        },
        {
          "output_type": "display_data",
          "data": {
            "image/png": "[encoded data removed]",
            "text/plain": [
              "<Figure size 432x288 with 1 Axes>"
            ]
          },
          "metadata": {
            "tags": [],
            "needs_background": "light"
          }
        }
      ]
    },
    {
      "cell_type": "code",
      "metadata": {
        "id": "22H4P489nctc",
        "colab_type": "code",
        "colab": {
          "base_uri": "https://localhost:8080/",
          "height": 34
        },
        "outputId": "decbb015-2dc4-48a7-ba8a-fb2f5435acaa"
      },
      "source": [
        "# serialize model to JSON\n",
        "#model_json = model.to_json()\n",
        "#with open(\"model.json\", \"w\") as json_file:\n",
        "#   json_file.write(model_json)\n",
        " \n",
        "# serialize weights to HDF5\n",
        "#model.save_weights(\"model.h5\")\n",
        "model.save(\"full.h5\")\n",
        "print(\"Saved model to disk\")\n",
        "from google.colab import files\n",
        "#files.download(\"model.json\")\n",
        "#files.download(\"model.h5\")\n",
        "files.download(\"full.h5\")"
      ],
      "execution_count": null,
      "outputs": [
        {
          "output_type": "stream",
          "text": [
            "Saved model to disk\n"
          ],
          "name": "stdout"
        }
      ]
    },
    {
      "cell_type": "code",
      "metadata": {
        "id": "JDme9lOLdlzC",
        "colab_type": "code",
        "colab": {
          "base_uri": "https://localhost:8080/",
          "height": 238
        },
        "outputId": "b02fb713-65da-459f-c2d2-52a3b78a5ab6"
      },
      "source": [
        "print(model.summary())"
      ],
      "execution_count": null,
      "outputs": [
        {
          "output_type": "stream",
          "text": [
            "Model: \"sequential_45\"\n",
            "_________________________________________________________________\n",
            "Layer (type)                 Output Shape              Param #   \n",
            "=================================================================\n",
            "dense_94 (Dense)             (None, 40)                240       \n",
            "_________________________________________________________________\n",
            "dense_95 (Dense)             (None, 1)                 41        \n",
            "=================================================================\n",
            "Total params: 281\n",
            "Trainable params: 281\n",
            "Non-trainable params: 0\n",
            "_________________________________________________________________\n",
            "None\n"
          ],
          "name": "stdout"
        }
      ]
    },
    {
      "cell_type": "code",
      "metadata": {
        "id": "Mcg__ZZno7K-",
        "colab_type": "code",
        "colab": {}
      },
      "source": [
        ""
      ],
      "execution_count": null,
      "outputs": []
    }
  ]
}